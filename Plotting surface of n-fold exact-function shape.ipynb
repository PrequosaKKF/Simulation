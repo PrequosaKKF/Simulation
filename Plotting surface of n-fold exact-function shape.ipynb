{
 "cells": [
  {
   "cell_type": "code",
   "execution_count": 1,
   "metadata": {},
   "outputs": [],
   "source": [
    "import matplotlib.pyplot as plt\n",
    "from matplotlib import interactive\n",
    "from mpl_toolkits import mplot3d\n",
    "import numpy as np\n",
    "from numpy import sin, cos, tan, pi, dot, arccos, log, e, cosh, sinh, sqrt\n",
    "%matplotlib inline"
   ]
  },
  {
   "cell_type": "code",
   "execution_count": 2,
   "metadata": {
    "scrolled": true
   },
   "outputs": [
    {
     "name": "stdout",
     "output_type": "stream",
     "text": [
      "58.7\n",
      "27.19\n",
      "2.16\n",
      "1.47\n",
      "0.98\n",
      "0.74\n",
      "0.6\n"
     ]
    }
   ],
   "source": [
    "d = 3.\n",
    "y = 0.\n",
    "dy = 0.0001\n",
    "def f(y):\n",
    "    return y/3\n",
    "def F(y):\n",
    "    return sqrt(1+((f(y+dy)-f(y))/dy)**2)\n",
    "def volume(f=f,y_max=2.):\n",
    "    inte = 0.\n",
    "    i=0.\n",
    "    while(i<y_max):\n",
    "        inte += (f(i)+d)*f(i)*dy\n",
    "        i+=dy\n",
    "    return d**2*y_max+4*inte\n",
    "def sA(f=f,y_max=2.):\n",
    "    inte = 0\n",
    "    i=0.\n",
    "    while(i<y_max):\n",
    "        inte += (2*f(i)+d)*F(i)*dy\n",
    "        i+=dy\n",
    "    return d**2+(2*f(y_max)+d)**2+4*inte\n",
    "def StoV(f=f,y_max=2.):\n",
    "    return sA(f,y_max)/volume(f,y_max)\n",
    "print(round(sA(),2))\n",
    "print(round(volume(),2))\n",
    "print(round(StoV(),2))\n",
    "l=1\n",
    "while(l<5):\n",
    "    print(round(StoV(y_max=l*2*2.),2))\n",
    "    l+=1"
   ]
  },
  {
   "cell_type": "code",
   "execution_count": 3,
   "metadata": {},
   "outputs": [],
   "source": [
    "#constant\n",
    "a = 3.0\n",
    "b = 3.0\n",
    "c = a\n",
    "d = b\n",
    "\n",
    "alpha = pi/180*90\n",
    "delta = abs(alpha - pi)\n",
    "beta = delta\n",
    "gamma = alpha\n",
    "\n",
    "theta = alpha\n",
    "phi = delta"
   ]
  },
  {
   "cell_type": "code",
   "execution_count": 4,
   "metadata": {},
   "outputs": [],
   "source": [
    "def A(y):\n",
    "    return cosh(y)-0.2*sinh(y)\n",
    "def B(y):\n",
    "    return cosh(y)-0.2*sinh(y)\n",
    "def C(y):\n",
    "    return cosh(y)-0.2*sinh(y)\n",
    "def D(y):\n",
    "    return cosh(y)-0.2*sinh(y)\n",
    "\n",
    "def lAx(y):\n",
    "    return -(A(y)*np.tan(alpha)**(-1)+B(y)*np.sin(alpha)**(-1))\n",
    "def rAx(y):\n",
    "    return a+D(y)*np.sin(delta)**(-1)+A(y)*np.tan(delta)**(-1)\n",
    "def AT(x,z):\n",
    "    rM = [[-1,0],[0,-1]]\n",
    "    tM = 0\n",
    "    mul = np.vstack((x,z))\n",
    "    ans = dot(rM,mul)+tM\n",
    "    return ans\n",
    "\n",
    "def lBx(y):\n",
    "    return -(B(y)*np.tan(beta)**(-1)+C(y)*np.sin(beta)**(-1))\n",
    "def rBx(y):\n",
    "    return b+A(y)*np.sin(alpha)**(-1)+B(y)*np.tan(alpha)**(-1)\n",
    "def BT(x,z):\n",
    "    rM = [[cos(alpha),sin(alpha)],[-sin(alpha),cos(alpha)]]\n",
    "    tM = [[-b*cos(alpha)],[b*sin(alpha)]]\n",
    "    mul = np.vstack((x,z))\n",
    "    ans = dot(rM,mul)+tM\n",
    "    return ans\n",
    "\n",
    "def lCx(y):\n",
    "    return -(C(y)*np.tan(gamma)**(-1)+D(y)*np.sin(gamma)**(-1))\n",
    "def rCx(y):\n",
    "    return c+C(y)*np.tan(beta)**(-1)+B(y)*np.sin(beta)**(-1)\n",
    "def CT(x,z):\n",
    "    rM = dot([[cos(alpha+beta),sin(alpha+beta)],[-sin(alpha+beta),cos(alpha+beta)]],[[-1,0],[0,-1]])\n",
    "    tM = [[d*cos(delta)-a],[d*sin(delta)]]\n",
    "    mul = np.vstack((x,z))\n",
    "    ans = dot(rM,mul)+tM\n",
    "    return ans\n",
    "\n",
    "def lDx(y):\n",
    "    return -(D(y)*np.tan(delta)**(-1)+A(y)*np.sin(delta)**(-1))\n",
    "def rDx(y):\n",
    "    return d+D(y)*np.tan(gamma)**(-1)+C(y)*np.sin(gamma)**(-1)\n",
    "def DT(x,z):\n",
    "    rM = [[cos(delta),-sin(delta)],[sin(delta),cos(delta)]]\n",
    "    tM = [[-a],[0]]\n",
    "    mul = np.vstack((x,z))\n",
    "    ans = dot(rM,mul)+tM\n",
    "    return ans"
   ]
  },
  {
   "cell_type": "code",
   "execution_count": 5,
   "metadata": {},
   "outputs": [],
   "source": [
    "y_set = np.linspace(0.0, 10.0, 500)\n",
    "\n",
    "def prep(S,lSx,rSx,ST):\n",
    "    y = y_set[0]\n",
    "    x_S = np.linspace(lSx(y),rSx(y),50)\n",
    "    XS, YS = np.meshgrid(x_S, y)\n",
    "    ZS = S(YS)\n",
    "    XS,ZS = ST(XS,ZS)\n",
    "    for i in range(0,y_set.size):\n",
    "        y = y_set[i]\n",
    "        x_S = np.linspace(lSx(y),rSx(y),50)\n",
    "        X_S, Y_S = np.meshgrid(x_S, y_set[i])\n",
    "        X_S,Z_S = ST(X_S,S(Y_S))\n",
    "        XS = np.vstack((XS,X_S))\n",
    "        YS = np.vstack((YS,Y_S))\n",
    "        ZS = np.vstack((ZS,Z_S))\n",
    "    return XS, YS, ZS\n",
    "    \n",
    "XA, YA, ZA = prep(A,lAx,rAx,AT)\n",
    "XB, YB, ZB = prep(B,lBx,rBx,BT)\n",
    "XC, YC, ZC = prep(C,lCx,rCx,CT)\n",
    "XD, YD, ZD = prep(D,lDx,rDx,DT)"
   ]
  },
  {
   "cell_type": "code",
   "execution_count": 6,
   "metadata": {},
   "outputs": [],
   "source": [
    "#cover\n",
    "XX = np.linspace(XD[50][0], XB[50][0], 50)\n",
    "zZ = np.linspace(ZD[50][0], ZD[50][49], 50)\n",
    "ZZ = zZ[0]\n",
    "for i in range(1,50):\n",
    "    Xx = np.linspace(XD[50][i], XB[50][49-i], 50)\n",
    "    Zz = zZ[i]\n",
    "    XX = np.vstack((XX,Xx))\n",
    "    ZZ = np.vstack((ZZ,Zz))\n",
    "YY = XX*0+2.0\n",
    "#front cover\n",
    "xx = np.linspace(XD[0][0], XB[0][0], 50)\n",
    "zZ = np.linspace(ZD[0][0], ZD[0][49], 50)\n",
    "zz = zZ[0]\n",
    "for i in range(1,50):\n",
    "    Xx = np.linspace(XD[0][i], XB[0][49-i], 50)\n",
    "    Zz = zZ[i]\n",
    "    xx = np.vstack((xx,Xx))\n",
    "    zz = np.vstack((zz,Zz))\n",
    "yy = xx*0+0.0"
   ]
  },
  {
   "cell_type": "code",
   "execution_count": 7,
   "metadata": {
    "scrolled": false
   },
   "outputs": [
    {
     "data": {
      "text/plain": [
       "<mpl_toolkits.mplot3d.art3d.Poly3DCollection at 0x7f5e72af8208>"
      ]
     },
     "execution_count": 7,
     "metadata": {},
     "output_type": "execute_result"
    },
    {
     "data": {
      "image/png": "[encoded data removed]",
      "text/plain": [
       "<matplotlib.figure.Figure at 0x7f5e77c9b588>"
      ]
     },
     "metadata": {},
     "output_type": "display_data"
    }
   ],
   "source": [
    "fig = plt.figure()\n",
    "ax = plt.axes(projection='3d')\n",
    "plt.axis('off')\n",
    "ax.set_title('f(y)= cosh(y)-0.2sinh(y),  y=[0,2]')\n",
    "ax.set_xlabel('x')\n",
    "ax.set_ylabel('y')\n",
    "ax.set_zlabel('z')\n",
    "ax.plot_surface(XA, YA, ZA, rstride=1, cstride=1,\n",
    "               cmap='copper', edgecolor='none')\n",
    "ax.plot_surface(XB, YB, ZB, rstride=1, cstride=1,\n",
    "               cmap='copper', edgecolor='none')\n",
    "ax.plot_surface(XC, YC, ZC, rstride=1, cstride=1,\n",
    "               cmap='copper', edgecolor='none')\n",
    "ax.plot_surface(XD, YD, ZD, rstride=1, cstride=1,\n",
    "               cmap='copper', edgecolor='none')\n",
    "ax.plot_surface(XX, YY, ZZ, rstride=1, cstride=1,\n",
    "               cmap='copper', edgecolor='none')\n",
    "ax.plot_surface(xx, yy, zz, rstride=1, cstride=1,\n",
    "               cmap='copper', edgecolor='none')"
   ]
  },
  {
   "cell_type": "code",
   "execution_count": null,
   "metadata": {},
   "outputs": [],
   "source": []
  },
  {
   "cell_type": "code",
   "execution_count": null,
   "metadata": {},
   "outputs": [],
   "source": []
  },
  {
   "cell_type": "code",
   "execution_count": null,
   "metadata": {},
   "outputs": [],
   "source": []
  }
 ],
 "metadata": {
  "kernelspec": {
   "display_name": "Python 3",
   "language": "python",
   "name": "python3"
  },
  "language_info": {
   "codemirror_mode": {
    "name": "ipython",
    "version": 3
   },
   "file_extension": ".py",
   "mimetype": "text/x-python",
   "name": "python",
   "nbconvert_exporter": "python",
   "pygments_lexer": "ipython3",
   "version": "3.5.4"
  }
 },
 "nbformat": 4,
 "nbformat_minor": 2
}
